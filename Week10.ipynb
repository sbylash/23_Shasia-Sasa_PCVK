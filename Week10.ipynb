{
  "nbformat": 4,
  "nbformat_minor": 0,
  "metadata": {
    "colab": {
      "provenance": [],
      "authorship_tag": "ABX9TyMg0IRvoqXCmx+YrAVykdNx",
      "include_colab_link": true
    },
    "kernelspec": {
      "name": "python3",
      "display_name": "Python 3"
    },
    "language_info": {
      "name": "python"
    }
  },
  "cells": [
    {
      "cell_type": "markdown",
      "metadata": {
        "id": "view-in-github",
        "colab_type": "text"
      },
      "source": [
        "<a href=\"https://colab.research.google.com/github/sbylash/23_Shasia-Sasa_PCVK/blob/main/Week10.ipynb\" target=\"_parent\"><img src=\"https://colab.research.google.com/assets/colab-badge.svg\" alt=\"Open In Colab\"/></a>"
      ]
    },
    {
      "cell_type": "code",
      "execution_count": 1,
      "metadata": {
        "id": "pvlIIvdGONcF",
        "outputId": "c0e37218-5f7f-4550-985a-e24321430308",
        "colab": {
          "base_uri": "https://localhost:8080/"
        }
      },
      "outputs": [
        {
          "output_type": "stream",
          "name": "stdout",
          "text": [
            "Mounted at /content/drive\n"
          ]
        }
      ],
      "source": [
        "from google.colab import drive\n",
        "drive.mount('/content/drive')"
      ]
    },
    {
      "cell_type": "code",
      "source": [
        "!pip install pytesseract"
      ],
      "metadata": {
        "id": "XKO6i_7yPufW",
        "outputId": "bc1f59bf-b683-412d-edee-2c463dc68b0d",
        "colab": {
          "base_uri": "https://localhost:8080/"
        }
      },
      "execution_count": 5,
      "outputs": [
        {
          "output_type": "stream",
          "name": "stdout",
          "text": [
            "Collecting pytesseract\n",
            "  Downloading pytesseract-0.3.13-py3-none-any.whl.metadata (11 kB)\n",
            "Requirement already satisfied: packaging>=21.3 in /usr/local/lib/python3.10/dist-packages (from pytesseract) (24.1)\n",
            "Requirement already satisfied: Pillow>=8.0.0 in /usr/local/lib/python3.10/dist-packages (from pytesseract) (10.4.0)\n",
            "Downloading pytesseract-0.3.13-py3-none-any.whl (14 kB)\n",
            "Installing collected packages: pytesseract\n",
            "Successfully installed pytesseract-0.3.13\n"
          ]
        }
      ]
    },
    {
      "cell_type": "code",
      "source": [
        "import cv2 as cv\n",
        "import numpy as np\n",
        "import pytesseract\n",
        "import matplotlib.pyplot as plt\n",
        "import pandas as pd\n",
        "from PIL import Image"
      ],
      "metadata": {
        "id": "r_vhTFz9PB9j"
      },
      "execution_count": 8,
      "outputs": []
    },
    {
      "cell_type": "code",
      "source": [
        "filename = ('/content/drive/MyDrive/image_thres/gradient.jpg')\n",
        "img = cv.imread(filename)\n",
        "thresh1 = cv.imread(filename)\n",
        "thresh2 = cv.imread(filename)\n",
        "thresh3 = cv.imread(filename)\n",
        "thresh4 = cv.imread(filename)\n",
        "thresh5 = cv.imread(filename)\n",
        "thresh = 170      #nilai Threshold yang ditentukan\n",
        "\n",
        "#1. thresh1 jika pixel di img>127, maka thresh1 bernilai 1(putih) selain itu bernilai 0(hitam)\n",
        "thresh1[img>thresh] = 255   #tanpa library\n",
        "thresh1[img<=thresh] = 0\n",
        "\n",
        "#2. thresh2 adalah binary threshold inverse\n",
        "thresh2 = 255 - thresh1   #tanpa library\n",
        "\n",
        "#3. Threshold Truncate\n",
        "thresh3[img>thresh] = thresh    #tanpa library\n",
        "\n",
        "#4. Threshold Tozero\n",
        "thresh4[img<=thresh] = 0    #tanpa library\n",
        "\n",
        "#5. Threshold Tozero Inverse\n",
        "thresh5[img>thresh] = 0    #tanpa library\n",
        "\n",
        "titles = ['Original Image','BINARY','BINARY_INV','TRUNC','TOZERO', 'TOZERO_INV']\n",
        "images = [img, thresh1, thresh2, thresh3, thresh4, thresh5]\n",
        "\n",
        "plt.figure(figsize = (15,5))\n",
        "for i in range(len(images)):\n",
        "  plt.subplot(2,3,i+1),plt.imshow(images[i],'gray',interpolation='nearest')\n",
        "  plt.title(titles[i])\n",
        "  plt.xticks([]),plt.yticks([])\n",
        "  plt.show()"
      ],
      "metadata": {
        "id": "u9b6ru2bPMfQ",
        "outputId": "e2fc6353-e40b-4ab9-9678-b0d1280a8b69",
        "colab": {
          "base_uri": "https://localhost:8080/",
          "height": 854
        }
      },
      "execution_count": 12,
      "outputs": [
        {
          "output_type": "display_data",
          "data": {
            "text/plain": [
              "<Figure size 1500x500 with 1 Axes>"
            ],
            "image/png": "[encoded data removed]"
          },
          "metadata": {}
        },
        {
          "output_type": "display_data",
          "data": {
            "text/plain": [
              "<Figure size 640x480 with 1 Axes>"
            ],
            "image/png": "[encoded data removed]"
          },
          "metadata": {}
        },
        {
          "output_type": "display_data",
          "data": {
            "text/plain": [
              "<Figure size 640x480 with 1 Axes>"
            ],
            "image/png": "[encoded data removed]"
          },
          "metadata": {}
        },
        {
          "output_type": "display_data",
          "data": {
            "text/plain": [
              "<Figure size 640x480 with 1 Axes>"
            ],
            "image/png": "[encoded data removed]"
          },
          "metadata": {}
        },
        {
          "output_type": "display_data",
          "data": {
            "text/plain": [
              "<Figure size 640x480 with 1 Axes>"
            ],
            "image/png": "[encoded data removed]"
          },
          "metadata": {}
        },
        {
          "output_type": "display_data",
          "data": {
            "text/plain": [
              "<Figure size 640x480 with 1 Axes>"
            ],
            "image/png": "[encoded data removed]"
          },
          "metadata": {}
        }
      ]
    },
    {
      "cell_type": "code",
      "source": [
        "filename = ('/content/drive/MyDrive/PCVK/Images/ktpRiyanto.jpg')\n",
        "img = cv.imread(filename,0)\n",
        "blur = cv.GaussianBlur(img,(5,5),0)\n",
        "def otsu(gray):\n",
        "pixel_number = gray.shape[0] * gray.shape[1]\n",
        "             mean_weight = 1.0/pixel_number\n",
        "    his, bins = np.histogram(gray, np.arange(0,257))\n",
        "    final_thresh = -1\n",
        "    final_value = -1\n",
        "    intensity_arr = np.arange(256)\n",
        "    for t in bins[1:-1]: # This goes from 1 to 254 uint8\n",
        "range (Pretty sure wont be those values)\n",
        "        pcb = np.sum(his[:t])\n",
        "        pcf = np.sum(his[t:])\n",
        "        Wb = pcb * mean_weight\n",
        "        Wf = pcf * mean_weight\n",
        "        mub = np.sum(intensity_arr[:t]*his[:t]) / float(pcb)\n",
        "        muf = np.sum(intensity_arr[t:]*his[t:]) / float(pcf)\n",
        "        #print mub, muf\n",
        "        value = Wb * Wf * (mub - muf) ** 2\n",
        "        if value > final_value:\n",
        "            final_thresh = t\n",
        "            final_value = value\n",
        "    final_img = gray.copy()\n",
        "    print(final_thresh)\n",
        "    final_img[gray > final_thresh] = 255\n",
        "    final_img[gray < final_thresh] = 0\n",
        "    return final_img, final_thresh\n",
        "otsu_biner, otsu_thresh = otsu(img)\n",
        "x = (\"Otsu's Thresholding (v = \")+str(otsu_thresh)+\")\"\n",
        "ret,th1 = cv.threshold(blur,90,255,cv.THRESH_BINARY)\n",
        "#ret,th2 = cv.threshold(blur,thresh,255,cv.THRESH_BINARY)\n",
        "titles = ['Citra Asli', 'Global Thresholding (v = 90)', x]\n",
        "citra3 = [blur, th1, otsu_biner]\n",
        "plt.figure(figsize = (20,15))\n",
        "for i in range(len(citra3)):\n",
        "    plt.subplot(1,3,i+1),plt.imshow(citra3[i],'gray')\n",
        "    plt.title(titles[i])\n",
        "    plt.xticks([]),plt.yticks([])\n",
        "plt.show()"
      ],
      "metadata": {
        "id": "dbFKCD7VP1r7"
      },
      "execution_count": null,
      "outputs": []
    }
  ]
}